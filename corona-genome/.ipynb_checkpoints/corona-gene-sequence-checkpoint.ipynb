{
 "cells": [
  {
   "cell_type": "code",
   "execution_count": 2,
   "metadata": {},
   "outputs": [
    {
     "name": "stdout",
     "output_type": "stream",
     "text": [
      "Collecting biopython\n",
      "  Downloading biopython-1.76-cp37-cp37m-macosx_10_6_intel.whl (2.4 MB)\n",
      "\u001b[K     |████████████████████████████████| 2.4 MB 323 kB/s eta 0:00:01     |████████████████████████████▊   | 2.2 MB 325 kB/s eta 0:00:01\n",
      "\u001b[?25hRequirement already satisfied: numpy in /Users/xebra/Desktop/Projects/obboylabs/covid-19-map/venv/lib/python3.7/site-packages (from biopython) (1.18.2)\n",
      "Installing collected packages: biopython\n",
      "Successfully installed biopython-1.76\n"
     ]
    }
   ],
   "source": [
    "!pip install biopython\n"
   ]
  },
  {
   "cell_type": "code",
   "execution_count": null,
   "metadata": {},
   "outputs": [],
   "source": [
    "# https://coronavirus.app/map\n",
    "# bing/covid\n",
    "# https://informationisbeautiful.net/\n",
    "# https://covid19-dash.github.io/\n",
    "# MDAnalysis python package\n",
    "# https://www.covidvisualizer.com/"
   ]
  },
  {
   "cell_type": "code",
   "execution_count": null,
   "metadata": {},
   "outputs": [],
   "source": [
    "# http://www.rcsb.org/pdb/results/results.do?tabtoshow=Current&qrid=ADE6C6DE\n",
    "# https://zhanglab.ccmb.med.umich.edu/C-I-TASSER/2019-nCov/\n",
    "# https://nextstrain.org/ncov\n",
    "# https://www.ncbi.nlm.nih.gov/nuccore/MT184913.1?report=genbank&to=29882\n",
    "# https://github.com/arose/nglview\n",
    "# bioblender\n",
    "# pymol\n",
    "# "
   ]
  },
  {
   "cell_type": "code",
   "execution_count": 2,
   "metadata": {},
   "outputs": [
    {
     "data": {
      "application/vnd.jupyter.widget-view+json": {
       "model_id": "d7e405d65fc74416b0305630c5c77d01",
       "version_major": 2,
       "version_minor": 0
      },
      "text/plain": [
       "NGLWidget()"
      ]
     },
     "metadata": {},
     "output_type": "display_data"
    }
   ],
   "source": [
    "import nglview\n",
    "view = nglview.show_pdbid(\"6VYB\")  # load \"3pqr\" from RCSB PDB and display viewer widget\n",
    "view"
   ]
  },
  {
   "cell_type": "code",
   "execution_count": 7,
   "metadata": {},
   "outputs": [
    {
     "data": {
      "text/plain": [
       "['BiopythonDeprecationWarning',\n",
       " 'BiopythonExperimentalWarning',\n",
       " 'BiopythonParserWarning',\n",
       " 'BiopythonWarning',\n",
       " 'MissingExternalDependencyError',\n",
       " 'MissingPythonDependencyError',\n",
       " '__builtins__',\n",
       " '__cached__',\n",
       " '__doc__',\n",
       " '__file__',\n",
       " '__loader__',\n",
       " '__name__',\n",
       " '__package__',\n",
       " '__path__',\n",
       " '__spec__',\n",
       " '__version__',\n",
       " '_parent_dir',\n",
       " 'os',\n",
       " 'warnings']"
      ]
     },
     "execution_count": 7,
     "metadata": {},
     "output_type": "execute_result"
    }
   ],
   "source": []
  },
  {
   "cell_type": "code",
   "execution_count": null,
   "metadata": {},
   "outputs": [],
   "source": []
  }
 ],
 "metadata": {
  "kernelspec": {
   "display_name": "Python 3",
   "language": "python",
   "name": "python3"
  },
  "language_info": {
   "codemirror_mode": {
    "name": "ipython",
    "version": 3
   },
   "file_extension": ".py",
   "mimetype": "text/x-python",
   "name": "python",
   "nbconvert_exporter": "python",
   "pygments_lexer": "ipython3",
   "version": "3.7.4"
  }
 },
 "nbformat": 4,
 "nbformat_minor": 4
}
